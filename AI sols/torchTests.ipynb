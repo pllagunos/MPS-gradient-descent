{
 "cells": [
  {
   "cell_type": "code",
   "execution_count": 1,
   "id": "eb39a121",
   "metadata": {},
   "outputs": [],
   "source": [
    "import torch\n",
    "\n",
    "d = 2\n",
    "sigmax = torch.tensor([[0., 1.], [1., 0.]])\n",
    "sigmay = torch.tensor([[0., -1j], [1j, 0.]])\n",
    "sigmaz = torch.tensor([[1., 0.], [0., -1.]])\n",
    "id = torch.eye(2)\n",
    "#init_H_bonds()\n",
    "\n",
    "# def init_H_bonds():\n",
    "# \tH_lsit = []\n",
    "# \tfor i in range(L):\n",
    "# \t\tgL = gR = 0.5 * g\n"
   ]
  },
  {
   "cell_type": "code",
   "execution_count": 2,
   "id": "44f8f90e",
   "metadata": {},
   "outputs": [
    {
     "data": {
      "text/plain": [
       "tensor(2.)"
      ]
     },
     "execution_count": 2,
     "metadata": {},
     "output_type": "execute_result"
    }
   ],
   "source": [
    "torch.einsum('ia,ia->', sigmax, sigmax)"
   ]
  },
  {
   "cell_type": "code",
   "execution_count": null,
   "id": "5731a0fe",
   "metadata": {},
   "outputs": [],
   "source": [
    "L = 2\n",
    "J = 1.\n",
    "g = 1.5\n",
    "\n"
   ]
  }
 ],
 "metadata": {
  "kernelspec": {
   "display_name": "computational-MB-physics",
   "language": "python",
   "name": "computational-mb-physics"
  },
  "language_info": {
   "codemirror_mode": {
    "name": "ipython",
    "version": 3
   },
   "file_extension": ".py",
   "mimetype": "text/x-python",
   "name": "python",
   "nbconvert_exporter": "python",
   "pygments_lexer": "ipython3",
   "version": "3.11.13"
  }
 },
 "nbformat": 4,
 "nbformat_minor": 5
}
